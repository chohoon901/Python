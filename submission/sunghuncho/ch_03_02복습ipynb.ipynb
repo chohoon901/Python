{
  "nbformat": 4,
  "nbformat_minor": 0,
  "metadata": {
    "colab": {
      "provenance": [],
      "authorship_tag": "ABX9TyOSKZy5gAl0PYEC87MZca3p",
      "include_colab_link": true
    },
    "kernelspec": {
      "name": "python3",
      "display_name": "Python 3"
    },
    "language_info": {
      "name": "python"
    }
  },
  "cells": [
    {
      "cell_type": "markdown",
      "metadata": {
        "id": "view-in-github",
        "colab_type": "text"
      },
      "source": [
        "<a href=\"https://colab.research.google.com/github/chohoon901/Python/blob/backup/submission/sunghuncho/ch_03_02%EB%B3%B5%EC%8A%B5ipynb.ipynb\" target=\"_parent\"><img src=\"https://colab.research.google.com/assets/colab-badge.svg\" alt=\"Open In Colab\"/></a>"
      ]
    },
    {
      "cell_type": "markdown",
      "source": [
        "# 클래스"
      ],
      "metadata": {
        "id": "4eKrsolNlIuT"
      }
    },
    {
      "cell_type": "code",
      "execution_count": 1,
      "metadata": {
        "id": "pnaGwYALizSP"
      },
      "outputs": [],
      "source": [
        "class Teacher: \n",
        "  def __init__(self): #생성자\n",
        "    self.name=\"이명직\"\n"
      ]
    },
    {
      "cell_type": "code",
      "source": [
        "lee=Teacher()"
      ],
      "metadata": {
        "id": "_q25v5u5lk8e"
      },
      "execution_count": 5,
      "outputs": []
    },
    {
      "cell_type": "code",
      "source": [
        "lee.name"
      ],
      "metadata": {
        "colab": {
          "base_uri": "https://localhost:8080/",
          "height": 35
        },
        "id": "WG7Xrxkoln_U",
        "outputId": "81b9a0df-1acc-4084-f5f2-79dad84b3b9d"
      },
      "execution_count": 4,
      "outputs": [
        {
          "output_type": "execute_result",
          "data": {
            "text/plain": [
              "'이명직'"
            ],
            "application/vnd.google.colaboratory.intrinsic+json": {
              "type": "string"
            }
          },
          "metadata": {},
          "execution_count": 4
        }
      ]
    },
    {
      "cell_type": "code",
      "source": [
        "class Teacher:\n",
        "  def __init__(self):\n",
        "    self.name=\"이명직\"\n",
        "\n",
        "  def lesson(self): # 메소드\n",
        "    print(\"수업을 시작하겠습니다!\")"
      ],
      "metadata": {
        "id": "rtDPtpVZl88_"
      },
      "execution_count": 10,
      "outputs": []
    },
    {
      "cell_type": "code",
      "source": [
        "lee=Teacher()\n",
        "lee.lesson()"
      ],
      "metadata": {
        "colab": {
          "base_uri": "https://localhost:8080/"
        },
        "id": "JiDug0hGmc9B",
        "outputId": "608e23af-2a9c-4d86-a503-bf84fcaf8864"
      },
      "execution_count": 9,
      "outputs": [
        {
          "output_type": "stream",
          "name": "stdout",
          "text": [
            "수업을 시작하겠습니다!\n"
          ]
        }
      ]
    },
    {
      "cell_type": "code",
      "source": [
        "class Teacher:\n",
        "  def __init__(self,name):\n",
        "    # self.name=\"이명직\"\n",
        "    self.name=name\n",
        "\n",
        "  def lesson(self, time, *args, comment=\"뭘 하면 좋을까요?\",**kwargs): # 메소드.\n",
        "    print(f\"오늘의 수업시간은 {time:.2f}시간 입니다.\")\n",
        "    print(f\"오늘의 수업과목은 \")\n",
        "    for i, v in enumerate(args):\n",
        "      print(i,v)\n",
        "    print(\"입니다.\")\n",
        "    print(f\"{self.name} 수업을 시작하겠습니다!\")\n",
        "    print(comment)\n",
        "    for key, val in kwargs.items():\n",
        "      print(f\"{key} 님이 질문하셨네요\")\n",
        "      print(f\"{val} 에 대해 답해드릴게요\")\n",
        "      print(\"실은 저도 잘 몰라요\")"
      ],
      "metadata": {
        "id": "PnF_nqsomXAw"
      },
      "execution_count": 25,
      "outputs": []
    },
    {
      "cell_type": "code",
      "source": [
        "lee=Teacher(\"이명직\")\n",
        "lee.lesson(3.42,\n",
        "           \"국어\",\"국어\",\"국어\", \n",
        "           john=\"국어\", james=\"수학\", kate=\"영어\")"
      ],
      "metadata": {
        "colab": {
          "base_uri": "https://localhost:8080/"
        },
        "id": "BrceY1Y5nRe8",
        "outputId": "aa9c9a12-3891-4174-b7b2-be247132db04"
      },
      "execution_count": 27,
      "outputs": [
        {
          "output_type": "stream",
          "name": "stdout",
          "text": [
            "오늘의 수업시간은 3.42시간 입니다.\n",
            "오늘의 수업과목은 \n",
            "0 국어\n",
            "1 국어\n",
            "2 국어\n",
            "입니다.\n",
            "이명직 수업을 시작하겠습니다!\n",
            "뭘 하면 좋을까요?\n",
            "john 님이 질문하셨네요\n",
            "국어 에 대해 답해드릴게요\n",
            "실은 저도 잘 몰라요\n",
            "james 님이 질문하셨네요\n",
            "수학 에 대해 답해드릴게요\n",
            "실은 저도 잘 몰라요\n",
            "kate 님이 질문하셨네요\n",
            "영어 에 대해 답해드릴게요\n",
            "실은 저도 잘 몰라요\n"
          ]
        }
      ]
    },
    {
      "cell_type": "code",
      "source": [
        "class CheonBeer:\n",
        "  counter=1\n",
        "\n",
        "  def __init__(self):\n",
        "    print(f\"축하합니다! {CheonBeer.counter}호점을 개점했습니다!\") \n",
        "    self.my_counter=CheonBeer.counter # self로 지정하면 클래스간 공유를 안함\n",
        "    CheonBeer.counter+=1"
      ],
      "metadata": {
        "id": "FRBd_8kdm27s"
      },
      "execution_count": 61,
      "outputs": []
    },
    {
      "cell_type": "code",
      "source": [
        "s1=CheonBeer()\n",
        "s2=CheonBeer()\n",
        "s1.counter,s2.counter,s1.my_counter,s2.my_counter"
      ],
      "metadata": {
        "colab": {
          "base_uri": "https://localhost:8080/"
        },
        "id": "CH297pz-wUPg",
        "outputId": "f8a48bed-1411-40e5-c060-e6f0d714b6fb"
      },
      "execution_count": 50,
      "outputs": [
        {
          "output_type": "stream",
          "name": "stdout",
          "text": [
            "축하합니다! 1호점을 개점했습니다!\n",
            "축하합니다! 2호점을 개점했습니다!\n"
          ]
        },
        {
          "output_type": "execute_result",
          "data": {
            "text/plain": [
              "(3, 3, 1, 2)"
            ]
          },
          "metadata": {},
          "execution_count": 50
        }
      ]
    },
    {
      "cell_type": "code",
      "source": [
        "class ManBeer(CheonBeer):\n",
        "  pass"
      ],
      "metadata": {
        "id": "G83whHmRyINS"
      },
      "execution_count": 43,
      "outputs": []
    },
    {
      "cell_type": "code",
      "source": [
        "a1=ManBeer()\n",
        "a1.counter,a1.my_counter"
      ],
      "metadata": {
        "colab": {
          "base_uri": "https://localhost:8080/"
        },
        "id": "BslEYWLMyMEq",
        "outputId": "b1efd383-4676-44c4-ae65-2b3582b54165"
      },
      "execution_count": 51,
      "outputs": [
        {
          "output_type": "stream",
          "name": "stdout",
          "text": [
            "축하합니다! 3호점을 개점했습니다!\n"
          ]
        },
        {
          "output_type": "execute_result",
          "data": {
            "text/plain": [
              "(4, 3)"
            ]
          },
          "metadata": {},
          "execution_count": 51
        }
      ]
    },
    {
      "cell_type": "code",
      "source": [
        "class ManBeer(CheonBeer):\n",
        "  def __init__(self,prize,visitor_count):\n",
        "    print(f\"{visitor_count}번째 손님에게 {prize}를 드립니다.\")"
      ],
      "metadata": {
        "id": "ukNbkUoMyhPg"
      },
      "execution_count": 53,
      "outputs": []
    },
    {
      "cell_type": "code",
      "source": [
        "a1=ManBeer(\"아이폰\",10000)\n",
        "a1.counter,a1.my_counter"
      ],
      "metadata": {
        "colab": {
          "base_uri": "https://localhost:8080/",
          "height": 209
        },
        "id": "tH2LgPe4yxD3",
        "outputId": "4e901c3f-468c-40d3-cb39-f73e50fcada1"
      },
      "execution_count": 54,
      "outputs": [
        {
          "output_type": "stream",
          "name": "stdout",
          "text": [
            "10000번째 손님에게 아이폰를 드립니다.\n"
          ]
        },
        {
          "output_type": "error",
          "ename": "AttributeError",
          "evalue": "ignored",
          "traceback": [
            "\u001b[0;31m---------------------------------------------------------------------------\u001b[0m",
            "\u001b[0;31mAttributeError\u001b[0m                            Traceback (most recent call last)",
            "\u001b[0;32m<ipython-input-54-9c4e29778d4b>\u001b[0m in \u001b[0;36m<module>\u001b[0;34m\u001b[0m\n\u001b[1;32m      1\u001b[0m \u001b[0ma1\u001b[0m\u001b[0;34m=\u001b[0m\u001b[0mManBeer\u001b[0m\u001b[0;34m(\u001b[0m\u001b[0;34m\"아이폰\"\u001b[0m\u001b[0;34m,\u001b[0m\u001b[0;36m10000\u001b[0m\u001b[0;34m)\u001b[0m\u001b[0;34m\u001b[0m\u001b[0;34m\u001b[0m\u001b[0m\n\u001b[0;32m----> 2\u001b[0;31m \u001b[0ma1\u001b[0m\u001b[0;34m.\u001b[0m\u001b[0mcounter\u001b[0m\u001b[0;34m,\u001b[0m\u001b[0ma1\u001b[0m\u001b[0;34m.\u001b[0m\u001b[0mmy_counter\u001b[0m\u001b[0;34m\u001b[0m\u001b[0;34m\u001b[0m\u001b[0m\n\u001b[0m",
            "\u001b[0;31mAttributeError\u001b[0m: 'ManBeer' object has no attribute 'my_counter'"
          ]
        }
      ]
    },
    {
      "cell_type": "code",
      "source": [
        "class ManBeer(CheonBeer):\n",
        "  def __init__(self,prize,visitor_count):\n",
        "    super().__init__() # my_counter 가져오기(메소드 오버라이딩)\n",
        "    print(f\"{visitor_count}번째 손님에게 {prize}를 드립니다.\")"
      ],
      "metadata": {
        "id": "ekf75o5hy3f2"
      },
      "execution_count": 71,
      "outputs": []
    },
    {
      "cell_type": "code",
      "source": [
        "a1=ManBeer(\"아이폰\",10000)\n",
        "a1.counter,a1.my_counter"
      ],
      "metadata": {
        "colab": {
          "base_uri": "https://localhost:8080/"
        },
        "id": "2MeFci_by_lg",
        "outputId": "3b91e1b7-76e5-4787-875a-247a45df6c39"
      },
      "execution_count": 72,
      "outputs": [
        {
          "output_type": "stream",
          "name": "stdout",
          "text": [
            "축하합니다! 1호점을 개점했습니다!\n",
            "10000번째 손님에게 아이폰를 드립니다.\n"
          ]
        },
        {
          "output_type": "execute_result",
          "data": {
            "text/plain": [
              "(2, 1)"
            ]
          },
          "metadata": {},
          "execution_count": 72
        }
      ]
    },
    {
      "cell_type": "code",
      "source": [
        "class ManWine(ManBeer):\n",
        "  def __init__(self, msg):\n",
        "    super(ManBeer,self).__init__() \n",
        "    # 생성자를 명확히 지정(ManBear는 생성자에 ManWine에 필요없는 매개변수가 있기때문)\n",
        "    # super()의 기본형태 : super(자기 클래스, self) -> 자기 클래스의 부모를 호출\n",
        "    print(f\"행운의 포춘쿠키 : {msg}\")"
      ],
      "metadata": {
        "id": "W11CaBPfzLpI"
      },
      "execution_count": 81,
      "outputs": []
    },
    {
      "cell_type": "code",
      "source": [
        "a2=ManWine(\"주변 사람에게 잘 하세요\")\n",
        "a2.counter, a2.my_counter"
      ],
      "metadata": {
        "colab": {
          "base_uri": "https://localhost:8080/"
        },
        "id": "DVHS6MEszaHD",
        "outputId": "d5fbaf73-0a2e-4c48-d234-4569edb26112"
      },
      "execution_count": 82,
      "outputs": [
        {
          "output_type": "stream",
          "name": "stdout",
          "text": [
            "축하합니다! 2호점을 개점했습니다!\n",
            "행운의 포춘쿠키 : 주변 사람에게 잘 하세요\n"
          ]
        },
        {
          "output_type": "execute_result",
          "data": {
            "text/plain": [
              "(3, 2)"
            ]
          },
          "metadata": {},
          "execution_count": 82
        }
      ]
    },
    {
      "cell_type": "code",
      "source": [],
      "metadata": {
        "id": "Alh8rtQizgc9"
      },
      "execution_count": null,
      "outputs": []
    }
  ]
}