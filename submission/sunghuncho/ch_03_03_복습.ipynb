{
  "nbformat": 4,
  "nbformat_minor": 0,
  "metadata": {
    "colab": {
      "provenance": [],
      "authorship_tag": "ABX9TyMQlpf1uzuydgYhRKCeR3k2",
      "include_colab_link": true
    },
    "kernelspec": {
      "name": "python3",
      "display_name": "Python 3"
    },
    "language_info": {
      "name": "python"
    }
  },
  "cells": [
    {
      "cell_type": "markdown",
      "metadata": {
        "id": "view-in-github",
        "colab_type": "text"
      },
      "source": [
        "<a href=\"https://colab.research.google.com/github/chohoon901/Python/blob/backup/submission/sunghuncho/ch_03_03_%EB%B3%B5%EC%8A%B5.ipynb\" target=\"_parent\"><img src=\"https://colab.research.google.com/assets/colab-badge.svg\" alt=\"Open In Colab\"/></a>"
      ]
    },
    {
      "cell_type": "markdown",
      "source": [
        "# 예외처리"
      ],
      "metadata": {
        "id": "wxg9cjtC37S4"
      }
    },
    {
      "cell_type": "code",
      "execution_count": 2,
      "metadata": {
        "id": "rMIIeHab2d7M"
      },
      "outputs": [],
      "source": [
        "class HamburgerStore:\n",
        "  def __init__(self,meat,*args):\n",
        "    self.meat=meat\n",
        "    if self.meat<0:\n",
        "      print(\"고기는 음수가 될수 없다\")\n",
        "    self.menu=args\n",
        "    for m in self.menu:\n",
        "      if m[-2:]!=\"버거\":\n",
        "        print(\"메뉴의 이름은 버거로 끝나야 합니다.\")"
      ]
    },
    {
      "cell_type": "code",
      "source": [
        "store=HamburgerStore(100,\n",
        "                     \"스펀지버거\",\"양말버거\",\"인스타감성버거\")"
      ],
      "metadata": {
        "id": "PQf7kEDv3NtF"
      },
      "execution_count": 4,
      "outputs": []
    },
    {
      "cell_type": "code",
      "source": [
        "store=HamburgerStore(100,\n",
        "                     \"스펀지버거\",\"양말버거\",\"인스타감성\")"
      ],
      "metadata": {
        "colab": {
          "base_uri": "https://localhost:8080/"
        },
        "id": "Q6FFrZ7C3YoZ",
        "outputId": "220d12e7-c26c-478f-99ae-8f7de0f08e83"
      },
      "execution_count": 5,
      "outputs": [
        {
          "output_type": "stream",
          "name": "stdout",
          "text": [
            "메뉴의 이름은 버거로 끝나야 합니다.\n"
          ]
        }
      ]
    },
    {
      "cell_type": "markdown",
      "source": [
        "## 1단계 : 기본오류 처리하기"
      ],
      "metadata": {
        "id": "85Dce7AC39vP"
      }
    },
    {
      "cell_type": "code",
      "source": [
        "try:\n",
        "  store=HamburgerStore(100)\n",
        "except Exception as e:\n",
        "  print(f\"에러 : {e}\")\n",
        "else:\n",
        "  print(\"정상적인 가게 생성입니다.\")\n",
        "  print(f\"스토어의 고기 양 : {store.meat}\")\n",
        "  print(f\"스토어의 메뉴 목록 : {store.menu}\")\n",
        "finally:\n",
        "  print(\"생성 과정 완료\")"
      ],
      "metadata": {
        "colab": {
          "base_uri": "https://localhost:8080/"
        },
        "id": "SqxApML93_oG",
        "outputId": "d71802b1-2bb0-4d0c-a4f2-1dd3b0cff09e"
      },
      "execution_count": 13,
      "outputs": [
        {
          "output_type": "stream",
          "name": "stdout",
          "text": [
            "정상적인 가게 생성입니다.\n",
            "스토어의 고기 양 : 100\n",
            "스토어의 메뉴 목록 : ()\n",
            "생성 과정 완료\n"
          ]
        }
      ]
    },
    {
      "cell_type": "markdown",
      "source": [
        "## 2단계 : 사용자 정의 오류 만들고 분기시키기\n",
        "\n",
        "* 입력 오류 : 음수 입력, 정수가 아닌 실수 입력, 문자열 입력(메세지가 깔끔하게 안나옴)\n",
        "> 위의 클래스에서 고기\n",
        "* 입력 오류 : 입력 안함, 원하는 문자열 미포함\n",
        "> 위의 클래스에서 메뉴"
      ],
      "metadata": {
        "id": "KeeISDF55BJR"
      }
    },
    {
      "cell_type": "code",
      "source": [
        "class MeatError(Exception):\n",
        "  def __init_(self,msg):\n",
        "    super().__init__(msg)\n",
        "\n",
        "class MenuError(Exception):\n",
        "  def __init_(self,msg):\n",
        "    super().__init__(msg)\n",
        "\n",
        "class HamburgerStore:\n",
        "  meat_str_error_msg=\"문자열을 입력했습니다. 정수로 다시 입력해주세요.\"\n",
        "  meat_float_error_msg=\"고기 양은 정수가 아닌 실수를 입력할 수 없습니다.\"\n",
        "  meat_negative_error_msg=\"고기 양은 음수를 입력할 수 없습니다.\"\n",
        "\n",
        "  def __init__(self,meat,*args):\n",
        "    self.meat=meat\n",
        "    self.handle_meat() # 모듈화\n",
        "    self.menu=args\n",
        "    self.handle_menu()\n",
        "  \n",
        "  def handle_meat(self):\n",
        "    if type(self.meat)==str:\n",
        "      raise MeatError(HamburgerStore.meat_str_error_msg)\n",
        "    if (self.meat is not int) and type(self.meat)==float:\n",
        "      raise MeatError(HamburgerStore.meat_float_error_msg)\n",
        "    if self.meat<0:\n",
        "      raise MeatError(HamburgerStore.meat_negative_error_msg)\n",
        "\n",
        "  def handle_menu(self):\n",
        "    if not self.menu:\n",
        "      raise MenuError(\"메뉴없이 가게를 열 수 없습니다..\")\n",
        "    for m in self.menu:\n",
        "      if m[-2:]!=\"버거\":\n",
        "        raise MenuError(\"메뉴의 이름은 버거로 끝나야 합니다.\")\n",
        "\n",
        "try:\n",
        "  store=HamburgerStore(1,\"된장찌개버거\")\n",
        "except MenuError as e:\n",
        "  print(\"메뉴 관련 오류입니다.\")\n",
        "  print(f\"에러 : {e}\")\n",
        "except MeatError as e:\n",
        "  print(\"고기 관련 오류입니다.\")\n",
        "  print(f\"에러 : {e}\")\n",
        "except Exception as e:\n",
        "  print(\"알수 없는 오류입니다.\")\n",
        "else:\n",
        "  print(\"정상적인 가게 생성입니다.\")\n",
        "  print(f\"스토어의 고기 양 : {store.meat}\")\n",
        "  print(f\"스토어의 메뉴 목록 : {store.menu}\")\n",
        "finally:\n",
        "  print(\"생성 과정 끝\")"
      ],
      "metadata": {
        "colab": {
          "base_uri": "https://localhost:8080/"
        },
        "id": "7J4Q2qFU4QcD",
        "outputId": "0857afe2-a9c2-4b3c-954f-6f34fdde7116"
      },
      "execution_count": 32,
      "outputs": [
        {
          "output_type": "stream",
          "name": "stdout",
          "text": [
            "정상적인 가게 생성입니다.\n",
            "스토어의 고기 양 : 1\n",
            "스토어의 메뉴 목록 : ('된장찌개버거',)\n",
            "생성 과정 끝\n"
          ]
        }
      ]
    },
    {
      "cell_type": "code",
      "source": [
        "def make_store(meat,*args):\n",
        "  try:\n",
        "    store=HamburgerStore(meat,*args)\n",
        "  except MenuError as e:\n",
        "    print(\"메뉴 관련 오류입니다.\")\n",
        "    raise e\n",
        "  except MeatError as e:\n",
        "    print(\"고기 관련 오류입니다.\")\n",
        "    raise e\n",
        "  except Exception as e:\n",
        "    raise e\n",
        "  return store"
      ],
      "metadata": {
        "id": "6CDjvPl8I5bc"
      },
      "execution_count": 30,
      "outputs": []
    },
    {
      "cell_type": "code",
      "source": [
        "\n",
        "try:\n",
        "  store=make_store(1,\"메뉴\")\n",
        "except Exception as e:\n",
        "  print(f\"에러 : {e}\")\n",
        "else:\n",
        "  print(\"정상적인 가게 생성입니다.\")\n",
        "  print(f\"스토어의 고기 양 : {store.meat}\")\n",
        "  print(f\"스토어의 메뉴 목록 : {store.menu}\")\n",
        "finally:\n",
        "  print(\"생성 과정 끝\")"
      ],
      "metadata": {
        "colab": {
          "base_uri": "https://localhost:8080/"
        },
        "id": "uiUNH3whBCjn",
        "outputId": "a15a985a-3495-457f-b16d-4bce628802d9"
      },
      "execution_count": 38,
      "outputs": [
        {
          "output_type": "stream",
          "name": "stdout",
          "text": [
            "메뉴 관련 오류입니다.\n",
            "에러 : 메뉴의 이름은 버거로 끝나야 합니다.\n",
            "생성 과정 끝\n"
          ]
        }
      ]
    }
  ]
}