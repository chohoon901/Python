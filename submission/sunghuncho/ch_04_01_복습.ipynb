{
  "nbformat": 4,
  "nbformat_minor": 0,
  "metadata": {
    "colab": {
      "provenance": [],
      "authorship_tag": "ABX9TyOWXSTy5hytWctyzHRHQW9f",
      "include_colab_link": true
    },
    "kernelspec": {
      "name": "python3",
      "display_name": "Python 3"
    },
    "language_info": {
      "name": "python"
    }
  },
  "cells": [
    {
      "cell_type": "markdown",
      "metadata": {
        "id": "view-in-github",
        "colab_type": "text"
      },
      "source": [
        "<a href=\"https://colab.research.google.com/github/chohoon901/Python/blob/backup/submission/sunghuncho/ch_04_01_%EB%B3%B5%EC%8A%B5.ipynb\" target=\"_parent\"><img src=\"https://colab.research.google.com/assets/colab-badge.svg\" alt=\"Open In Colab\"/></a>"
      ]
    },
    {
      "cell_type": "code",
      "execution_count": null,
      "metadata": {
        "id": "E8qFVQldD--x"
      },
      "outputs": [],
      "source": [
        "# import\n",
        "# import .. as ... / from .. import...as..\n",
        "# !pip install\n",
        "!pip list"
      ]
    },
    {
      "cell_type": "code",
      "source": [
        "!pip install gtts"
      ],
      "metadata": {
        "id": "BR_ONg73EipE"
      },
      "execution_count": null,
      "outputs": []
    },
    {
      "cell_type": "code",
      "source": [
        "from gtts import gTTS as gs\n",
        "\n",
        "tts=gs('안녕',lang='ko')\n",
        "tts.save(\"안녕.mp3\")"
      ],
      "metadata": {
        "id": "JfQB4HGnFDGJ"
      },
      "execution_count": 6,
      "outputs": []
    },
    {
      "cell_type": "code",
      "source": [
        "from IPython.display import Audio\n",
        "\n",
        "audio=Audio(\"안녕.mp3\",autoplay=True)\n",
        "display(audio)"
      ],
      "metadata": {
        "id": "TTIRL0IvF2nj"
      },
      "execution_count": null,
      "outputs": []
    },
    {
      "cell_type": "code",
      "source": [
        "from gtts import gTTS\n",
        "from IPython.display import Audio\n",
        "from random import choice,randint\n",
        "from time import sleep\n",
        "\n",
        "def chat():\n",
        "  says=[\"목 아프다\",\"배고프다\",\"졸리다\"]\n",
        "  c=choice(says)\n",
        "  tts=gTTS(c,lang='ko')\n",
        "  filename='chat.mp3'\n",
        "  tts.save(filename)\n",
        "  audio=Audio(filename,autoplay=True)\n",
        "  display(audio)\n",
        "\n",
        "for i in range(randint(1,5)):\n",
        "  sleep(2)\n",
        "  chat()"
      ],
      "metadata": {
        "colab": {
          "base_uri": "https://localhost:8080/",
          "height": 188
        },
        "id": "i20ZwSEqGOyq",
        "outputId": "d9b6f041-25d2-47d5-a296-4b560f348cce"
      },
      "execution_count": 14,
      "outputs": [
        {
          "output_type": "display_data",
          "data": {
            "text/plain": [
              "<IPython.lib.display.Audio object>"
            ],
            "text/html": [
              "\n",
              "                <audio  controls=\"controls\" autoplay=\"autoplay\">\n",
              "                    <source src=\"data:audio/mpeg;base64,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\" type=\"audio/mpeg\" />\n",
              "                    Your browser does not support the audio element.\n",
              "                </audio>\n",
              "              "
            ]
          },
          "metadata": {}
        },
        {
          "output_type": "display_data",
          "data": {
            "text/plain": [
              "<IPython.lib.display.Audio object>"
            ],
            "text/html": [
              "\n",
              "                <audio  controls=\"controls\" autoplay=\"autoplay\">\n",
              "                    <source src=\"data:audio/mpeg;base64,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\" type=\"audio/mpeg\" />\n",
              "                    Your browser does not support the audio element.\n",
              "                </audio>\n",
              "              "
            ]
          },
          "metadata": {}
        },
        {
          "output_type": "display_data",
          "data": {
            "text/plain": [
              "<IPython.lib.display.Audio object>"
            ],
            "text/html": [
              "\n",
              "                <audio  controls=\"controls\" autoplay=\"autoplay\">\n",
              "                    <source src=\"data:audio/mpeg;base64,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\" type=\"audio/mpeg\" />\n",
              "                    Your browser does not support the audio element.\n",
              "                </audio>\n",
              "              "
            ]
          },
          "metadata": {}
        }
      ]
    }
  ]
}